{
 "cells": [
  {
   "cell_type": "code",
   "execution_count": 1,
   "metadata": {},
   "outputs": [],
   "source": [
    "import TweetDataFrame as TDF\n",
    "import Natural_Language_Processing as NLP\n",
    "from sklearn.feature_extraction.text import CountVectorizer\n",
    "import tweepy as tw\n",
    "import pandas as pd\n",
    "import numpy as np"
   ]
  },
  {
   "cell_type": "code",
   "execution_count": 2,
   "metadata": {},
   "outputs": [
    {
     "name": "stdout",
     "output_type": "stream",
     "text": [
      "Authentification ok\n",
      "                                                Text           User  \\\n",
      "0  @JoeBiden Remember Benghazi?  We do. That horr...   LeeB51568553   \n",
      "1  @SidimaMM One thing we do know after Barack Ob...      Nic0Milan   \n",
      "2  Otw to work at the bookstore. Hope Obama visit...       AndyT187   \n",
      "3  @EricTrump I guess that says more people hate ...  blue_activist   \n",
      "4  Really Michelle Obama is a Man? https://t.co/f...          6akp9   \n",
      "5  The Israeli Govt committed an act of Terrorism...       inovajon   \n",
      "6  @JoyAnnReid Repubs have been trying and have h...        mad4sci   \n",
      "7  celebrities after posting about how great obam...      mhaleighw   \n",
      "8  @votethemfout @John_Scotus @tedcruz Ok dude, h...   PoliticalCow   \n",
      "9  Pinkerton: Barack Obama Is a Machiavellian Fox...      Furlicity   \n",
      "\n",
      "                 Date            Search Word  \n",
      "0 2020-11-29 15:26:28  Obama-filter:retweets  \n",
      "1 2020-11-29 15:26:27  Obama-filter:retweets  \n",
      "2 2020-11-29 15:26:22  Obama-filter:retweets  \n",
      "3 2020-11-29 15:26:22  Obama-filter:retweets  \n",
      "4 2020-11-29 15:26:22  Obama-filter:retweets  \n",
      "5 2020-11-29 15:26:18  Obama-filter:retweets  \n",
      "6 2020-11-29 15:26:16  Obama-filter:retweets  \n",
      "7 2020-11-29 15:26:16  Obama-filter:retweets  \n",
      "8 2020-11-29 15:26:16  Obama-filter:retweets  \n",
      "9 2020-11-29 15:26:16  Obama-filter:retweets  \n"
     ]
    }
   ],
   "source": [
    "import TweetDataFrame as TDF\n",
    "\n",
    "Data = TDF.search(\"Obama\", \"2020-11-24\", 10, \"en\")\n",
    "print(Data)"
   ]
  },
  {
   "cell_type": "code",
   "execution_count": 3,
   "metadata": {},
   "outputs": [
    {
     "name": "stdout",
     "output_type": "stream",
     "text": [
      "[\"@JoeBiden Remember Benghazi?  We do. That horrific tragedy resulting in our men and women ambushed and killed unnecessarily was under yours, OBAMA and Hillary Clinton's watch. GOD bless our country. We can't let these career politicians ruin our country.\"]\n",
      "[[1 1 1 1 1 2 1 1 1 1 1 1 1 1 1 1 1 1 1 1 1 1 1]]\n",
      "First words: ['ambushed', 'benghazi', 'bless', 'career', 'clinton', 'country', 'god', 'hillary', 'horrific', 'joebiden', 'killed', 'let', 'men', 'obama', 'politician', 'remember', 'resulting', 'ruin', 'tragedy', 'under', 'unnecessarily', 'watch', 'woman']\n"
     ]
    }
   ],
   "source": [
    "Text=Data[\"Text\"]\n",
    "#Text.head()\n",
    "#print(Text)\n",
    "sample=Text[0]\n",
    "sample=[sample]\n",
    "print(sample)\n",
    "\n",
    "f= open(\"dict_mot/stop_words_english.txt\",\"r\")\n",
    "stop_words_en=f.read().splitlines()\n",
    "f.close\n",
    "\n",
    "#tokenizer=NLP.LemmaEnglishTokenizer(stop_words=stop_words_en,remove_non_words=False)\n",
    "tokenizer=NLP.LemmaTokenizer(language='en',stop_words=stop_words_en,remove_non_words=False)\n",
    "#' '.join(test)\n",
    "countvect = CountVectorizer(tokenizer=tokenizer)\n",
    "bow = countvect.fit_transform(sample)\n",
    "#print(bow)\n",
    "#print(countvect.get_feature_names())\n",
    "print(bow.toarray())\n",
    "\n",
    "### print(\"Number of documents:\", len(email_path))\n",
    "words = countvect.get_feature_names()\n",
    "#print(\"Number of words:\", len(words))\n",
    "#print(\"Document - words matrix:\", bow.shape)\n",
    "print(\"First words:\", words)\n"
   ]
  },
  {
   "cell_type": "code",
   "execution_count": 4,
   "metadata": {},
   "outputs": [
    {
     "name": "stdout",
     "output_type": "stream",
     "text": [
      "Authentification ok\n"
     ]
    }
   ],
   "source": [
    "Data_fr = TDF.search(\"Obama\", \"2020-11-13\", 50, \"fr\")\n"
   ]
  },
  {
   "cell_type": "code",
   "execution_count": 5,
   "metadata": {},
   "outputs": [
    {
     "name": "stdout",
     "output_type": "stream",
     "text": [
      "['@dbongino Bongino complains / Obama excells']\n",
      "[1 1 1 1 1]\n",
      "First words: ['bongino', 'complains', 'dbongino', 'excells', 'obama']\n"
     ]
    }
   ],
   "source": [
    "Text_fr=Data_fr[\"Text\"]\n",
    "#print(Data_fr)\n",
    "\n",
    "sample_fr= Text_fr[0]\n",
    "sample_fr=[sample_fr]\n",
    "print(sample_fr)\n",
    "#tokenizer_fr=NLP.FrenchStemTokenizer(remove_non_words=False)\n",
    "tokenizer=NLP.LemmaTokenizer(language=\"fr\",stop_words=None,remove_non_words=False)\n",
    "#' '.join(test)\n",
    "countvect = CountVectorizer(tokenizer=tokenizer)\n",
    "bow = countvect.fit_transform(sample_fr)\n",
    "#print(bow)\n",
    "#print(countvect.get_feature_names())\n",
    "print(bow.toarray().reshape(-1))\n",
    "\n",
    "### print(\"Number of documents:\", len(email_path))\n",
    "words = countvect.get_feature_names()\n",
    "#print(\"Number of words:\", len(words))\n",
    "#print(\"Document - words matrix:\", bow.shape)\n",
    "print(\"First words:\", words)"
   ]
  },
  {
   "cell_type": "code",
   "execution_count": 6,
   "metadata": {},
   "outputs": [],
   "source": [
    "sample_fr= Text_fr[0]\n",
    "BOW=NLP.BagOfWords(sample_fr,'fr', stop_words=None, remove_non_words=False, stemming=False)"
   ]
  },
  {
   "cell_type": "code",
   "execution_count": 7,
   "metadata": {},
   "outputs": [
    {
     "name": "stdout",
     "output_type": "stream",
     "text": [
      "(['bongino', 'complains', 'dbongino', 'excells', 'obama'], array([1, 1, 1, 1, 1]))\n"
     ]
    }
   ],
   "source": [
    "print(BOW)"
   ]
  },
  {
   "cell_type": "code",
   "execution_count": null,
   "metadata": {},
   "outputs": [],
   "source": []
  }
 ],
 "metadata": {
  "kernelspec": {
   "display_name": "Python 3",
   "language": "python",
   "name": "python3"
  },
  "language_info": {
   "codemirror_mode": {
    "name": "ipython",
    "version": 3
   },
   "file_extension": ".py",
   "mimetype": "text/x-python",
   "name": "python",
   "nbconvert_exporter": "python",
   "pygments_lexer": "ipython3",
   "version": "3.8.3"
  }
 },
 "nbformat": 4,
 "nbformat_minor": 4
}
