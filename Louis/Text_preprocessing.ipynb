{
 "cells": [
  {
   "cell_type": "code",
   "execution_count": 1,
   "metadata": {},
   "outputs": [],
   "source": [
    "import TweetDataFrame as TDF\n",
    "import Natural_Language_Processing as NLP\n",
    "from sklearn.feature_extraction.text import CountVectorizer\n",
    "import tweepy as tw\n",
    "import pandas as pd\n",
    "import numpy as np"
   ]
  },
  {
   "cell_type": "code",
   "execution_count": 2,
   "metadata": {},
   "outputs": [
    {
     "name": "stdout",
     "output_type": "stream",
     "text": [
      "Authentification ok\n",
      "                                                Text             User  \\\n",
      "0  @Used_To_Be_GOP @MSNBC @realDonaldTrump @Barac...   creolebosslady   \n",
      "1  #MondayMorning its the last “Monday Of 2020” m...         donnedia   \n",
      "2  @ByronYork could you imagine the criticizing o...      OliverPGO53   \n",
      "3  @JoeBiden Please do something about tbe biased...  Rhinorobinson16   \n",
      "4  @fatlogin @StephenBright @iamjukEZ @TA32556798...     mypotustrump   \n",
      "5  @CarmenMerced8 @dbongino Far from it, but you'...       DeecanRoss   \n",
      "6  @BradOhlund @mskane2u @SwmpladySH @robreiner H...          latxglv   \n",
      "7  @DebtTrut @RepKatiePorter I already know the s...     SenorNopales   \n",
      "8  “In many ways, Barack Obama and Donald Trump a...  michael_david41   \n",
      "9  @JeremyKonyndyk @DFBHarvard Trump followed the...   weldonbonselle   \n",
      "\n",
      "                 Date            Search Word  \n",
      "0 2020-12-28 14:20:58  Obama-filter:retweets  \n",
      "1 2020-12-28 14:20:53  Obama-filter:retweets  \n",
      "2 2020-12-28 14:20:50  Obama-filter:retweets  \n",
      "3 2020-12-28 14:20:47  Obama-filter:retweets  \n",
      "4 2020-12-28 14:20:46  Obama-filter:retweets  \n",
      "5 2020-12-28 14:20:46  Obama-filter:retweets  \n",
      "6 2020-12-28 14:20:44  Obama-filter:retweets  \n",
      "7 2020-12-28 14:20:39  Obama-filter:retweets  \n",
      "8 2020-12-28 14:20:38  Obama-filter:retweets  \n",
      "9 2020-12-28 14:20:31  Obama-filter:retweets  \n"
     ]
    }
   ],
   "source": [
    "import TweetDataFrame as TDF\n",
    "\n",
    "Data = TDF.search(\"Obama\", \"2020-12-24\", 10, \"en\")\n",
    "print(Data)"
   ]
  },
  {
   "cell_type": "code",
   "execution_count": 3,
   "metadata": {},
   "outputs": [
    {
     "name": "stdout",
     "output_type": "stream",
     "text": [
      "['@Used_To_Be_GOP @MSNBC @realDonaldTrump @BarackObama Have you asked yourself why? What was it about Obama that made you not trust him? What was it about Trump that made you trust him?']\n",
      "[[1 1 2 1 1 1 1 2]]\n",
      "First words: ['asked', 'barackobama', 'made', 'msnbc', 'obama', 'realdonaldtrump', 'trump', 'trust']\n"
     ]
    }
   ],
   "source": [
    "Text=Data[\"Text\"]\n",
    "#Text.head()\n",
    "#print(Text)\n",
    "sample=Text[0]\n",
    "sample=[sample]\n",
    "print(sample)\n",
    "\n",
    "f= open(\"dict_mot/stop_words_english.txt\",\"r\")\n",
    "stop_words_en=f.read().splitlines()\n",
    "f.close\n",
    "\n",
    "#tokenizer=NLP.LemmaEnglishTokenizer(stop_words=stop_words_en,remove_non_words=False)\n",
    "tokenizer=NLP.LemmaTokenizer(language='en',stop_words=stop_words_en,remove_non_words=False)\n",
    "#' '.join(test)\n",
    "countvect = CountVectorizer(tokenizer=tokenizer)\n",
    "bow = countvect.fit_transform(sample)\n",
    "#print(bow)\n",
    "#print(countvect.get_feature_names())\n",
    "print(bow.toarray())\n",
    "\n",
    "### print(\"Number of documents:\", len(email_path))\n",
    "words = countvect.get_feature_names()\n",
    "#print(\"Number of words:\", len(words))\n",
    "#print(\"Document - words matrix:\", bow.shape)\n",
    "print(\"First words:\", words)\n"
   ]
  },
  {
   "cell_type": "code",
   "execution_count": 4,
   "metadata": {},
   "outputs": [
    {
     "name": "stdout",
     "output_type": "stream",
     "text": [
      "Authentification ok\n"
     ]
    }
   ],
   "source": [
    "Data_fr = TDF.search(\"Obama\", \"2020-11-13\", 50, \"fr\")\n"
   ]
  },
  {
   "cell_type": "code",
   "execution_count": 5,
   "metadata": {},
   "outputs": [
    {
     "name": "stdout",
     "output_type": "stream",
     "text": [
      "[\"@Menegov_ Trump avait aussi lancé la rumeur que Ted Cruz n'était pas éligible car il est né au Canada. Mais oui dans les cas de Harris et Obama c'est juste du racisme\\nhttps://t.co/QA83r39ZsZ\"]\n",
      "[1 1 1 1 1 1 1 1 1 1 1 1 1 1 1 1 1 1]\n",
      "First words: ['aussi', 'ca', 'canada', 'car', 'co', 'cruz', 'harris', 'http', 'juste', 'lancé', 'né', 'obama', 'oui', 'racisme', 'rumeur', 'ted', 'trump', 'éligible']\n"
     ]
    }
   ],
   "source": [
    "Text_fr=Data_fr[\"Text\"]\n",
    "#print(Data_fr)\n",
    "\n",
    "sample_fr= Text_fr[0]\n",
    "sample_fr=[sample_fr]\n",
    "print(sample_fr)\n",
    "#tokenizer_fr=NLP.FrenchStemTokenizer(remove_non_words=False)\n",
    "tokenizer=NLP.LemmaTokenizer(language=\"fr\",stop_words=None,remove_non_words=False)\n",
    "#' '.join(test)\n",
    "countvect = CountVectorizer(tokenizer=tokenizer)\n",
    "bow = countvect.fit_transform(sample_fr)\n",
    "#print(bow)\n",
    "#print(countvect.get_feature_names())\n",
    "print(bow.toarray().reshape(-1))\n",
    "\n",
    "### print(\"Number of documents:\", len(email_path))\n",
    "words = countvect.get_feature_names()\n",
    "#print(\"Number of words:\", len(words))\n",
    "#print(\"Document - words matrix:\", bow.shape)\n",
    "print(\"First words:\", words)"
   ]
  },
  {
   "cell_type": "code",
   "execution_count": 6,
   "metadata": {},
   "outputs": [],
   "source": [
    "sample_fr= Text_fr[0]\n",
    "BOW=NLP.bagofwords(sample_fr,'fr', stemming=True)"
   ]
  },
  {
   "cell_type": "code",
   "execution_count": 7,
   "metadata": {},
   "outputs": [
    {
     "data": {
      "text/plain": [
       "\"@Menegov_ Trump avait aussi lancé la rumeur que Ted Cruz n'était pas éligible car il est né au Canada. Mais oui dans les cas de Harris et Obama c'est juste du racisme\\nhttps://t.co/QA83r39ZsZ\""
      ]
     },
     "execution_count": 7,
     "metadata": {},
     "output_type": "execute_result"
    }
   ],
   "source": [
    "sample_fr"
   ]
  },
  {
   "cell_type": "code",
   "execution_count": 8,
   "metadata": {},
   "outputs": [
    {
     "name": "stdout",
     "output_type": "stream",
     "text": [
      "(['auss', 'canad', 'car', 'cas', 'co', 'cruz', 'harr', 'http', 'just', 'lanc', 'né', 'obam', 'oui', 'racism', 'rumeur', 'ted', 'trump', 'éligibl'], array([1, 1, 1, 1, 1, 1, 1, 1, 1, 1, 1, 1, 1, 1, 1, 1, 1, 1], dtype=int64))\n"
     ]
    }
   ],
   "source": [
    "print(BOW)"
   ]
  },
  {
   "cell_type": "code",
   "execution_count": 22,
   "metadata": {},
   "outputs": [
    {
     "name": "stdout",
     "output_type": "stream",
     "text": [
      "Authentification ok\n"
     ]
    },
    {
     "data": {
      "text/html": [
       "<div>\n",
       "<style scoped>\n",
       "    .dataframe tbody tr th:only-of-type {\n",
       "        vertical-align: middle;\n",
       "    }\n",
       "\n",
       "    .dataframe tbody tr th {\n",
       "        vertical-align: top;\n",
       "    }\n",
       "\n",
       "    .dataframe thead th {\n",
       "        text-align: right;\n",
       "    }\n",
       "</style>\n",
       "<table border=\"1\" class=\"dataframe\">\n",
       "  <thead>\n",
       "    <tr style=\"text-align: right;\">\n",
       "      <th></th>\n",
       "      <th>Text</th>\n",
       "      <th>User</th>\n",
       "      <th>Date</th>\n",
       "      <th>Search Word</th>\n",
       "    </tr>\n",
       "  </thead>\n",
       "  <tbody>\n",
       "    <tr>\n",
       "      <th>0</th>\n",
       "      <td>Un généticien allemand dit que ceux qui refuse...</td>\n",
       "      <td>LaRouquinedu1er</td>\n",
       "      <td>2020-12-28 14:23:17</td>\n",
       "      <td>covid-filter:retweets</td>\n",
       "    </tr>\n",
       "    <tr>\n",
       "      <th>1</th>\n",
       "      <td>@jlgervaise @DIVIZIO1 En même temps cette anné...</td>\n",
       "      <td>Quisuisje13</td>\n",
       "      <td>2020-12-28 14:23:16</td>\n",
       "      <td>covid-filter:retweets</td>\n",
       "    </tr>\n",
       "    <tr>\n",
       "      <th>2</th>\n",
       "      <td>@Mediavenir Ratio contre le Covid</td>\n",
       "      <td>grosseqichta</td>\n",
       "      <td>2020-12-28 14:23:11</td>\n",
       "      <td>covid-filter:retweets</td>\n",
       "    </tr>\n",
       "    <tr>\n",
       "      <th>3</th>\n",
       "      <td>@ArthezD @____Thierry____ @Barbara43797858 En ...</td>\n",
       "      <td>FBoutiers</td>\n",
       "      <td>2020-12-28 14:23:09</td>\n",
       "      <td>covid-filter:retweets</td>\n",
       "    </tr>\n",
       "    <tr>\n",
       "      <th>4</th>\n",
       "      <td>La vaccination contre le Covid-19 marque le dé...</td>\n",
       "      <td>ladh</td>\n",
       "      <td>2020-12-28 14:23:05</td>\n",
       "      <td>covid-filter:retweets</td>\n",
       "    </tr>\n",
       "    <tr>\n",
       "      <th>5</th>\n",
       "      <td>La vaccination contre le COVID-19 a débuté à l...</td>\n",
       "      <td>rhonefm</td>\n",
       "      <td>2020-12-28 14:23:03</td>\n",
       "      <td>covid-filter:retweets</td>\n",
       "    </tr>\n",
       "    <tr>\n",
       "      <th>6</th>\n",
       "      <td>A l’honneur les femmes scientifiques  ⁦@Challe...</td>\n",
       "      <td>dom221148</td>\n",
       "      <td>2020-12-28 14:23:03</td>\n",
       "      <td>covid-filter:retweets</td>\n",
       "    </tr>\n",
       "    <tr>\n",
       "      <th>7</th>\n",
       "      <td>Le covid, remède à l’immobilisme horloger?</td>\n",
       "      <td>LeTemps</td>\n",
       "      <td>2020-12-28 14:23:02</td>\n",
       "      <td>covid-filter:retweets</td>\n",
       "    </tr>\n",
       "    <tr>\n",
       "      <th>8</th>\n",
       "      <td>@infosportplus Polémique ça va devenir son nom...</td>\n",
       "      <td>RollandLucas6</td>\n",
       "      <td>2020-12-28 14:23:00</td>\n",
       "      <td>covid-filter:retweets</td>\n",
       "    </tr>\n",
       "    <tr>\n",
       "      <th>9</th>\n",
       "      <td>⚠️Alors que la prévention existe...🤬\\nPROPHYLA...</td>\n",
       "      <td>Log_Yves</td>\n",
       "      <td>2020-12-28 14:22:52</td>\n",
       "      <td>covid-filter:retweets</td>\n",
       "    </tr>\n",
       "  </tbody>\n",
       "</table>\n",
       "</div>"
      ],
      "text/plain": [
       "                                                Text             User  \\\n",
       "0  Un généticien allemand dit que ceux qui refuse...  LaRouquinedu1er   \n",
       "1  @jlgervaise @DIVIZIO1 En même temps cette anné...      Quisuisje13   \n",
       "2                  @Mediavenir Ratio contre le Covid     grosseqichta   \n",
       "3  @ArthezD @____Thierry____ @Barbara43797858 En ...        FBoutiers   \n",
       "4  La vaccination contre le Covid-19 marque le dé...             ladh   \n",
       "5  La vaccination contre le COVID-19 a débuté à l...          rhonefm   \n",
       "6  A l’honneur les femmes scientifiques  ⁦@Challe...        dom221148   \n",
       "7        Le covid, remède à l’immobilisme horloger?           LeTemps   \n",
       "8  @infosportplus Polémique ça va devenir son nom...    RollandLucas6   \n",
       "9  ⚠️Alors que la prévention existe...🤬\\nPROPHYLA...         Log_Yves   \n",
       "\n",
       "                 Date            Search Word  \n",
       "0 2020-12-28 14:23:17  covid-filter:retweets  \n",
       "1 2020-12-28 14:23:16  covid-filter:retweets  \n",
       "2 2020-12-28 14:23:11  covid-filter:retweets  \n",
       "3 2020-12-28 14:23:09  covid-filter:retweets  \n",
       "4 2020-12-28 14:23:05  covid-filter:retweets  \n",
       "5 2020-12-28 14:23:03  covid-filter:retweets  \n",
       "6 2020-12-28 14:23:03  covid-filter:retweets  \n",
       "7 2020-12-28 14:23:02  covid-filter:retweets  \n",
       "8 2020-12-28 14:23:00  covid-filter:retweets  \n",
       "9 2020-12-28 14:22:52  covid-filter:retweets  "
      ]
     },
     "execution_count": 22,
     "metadata": {},
     "output_type": "execute_result"
    }
   ],
   "source": [
    "données = TDF.search(\"covid\", \"2020-12-25\", 10, \"fr\",remove_URL = True)\n",
    "données"
   ]
  },
  {
   "cell_type": "code",
   "execution_count": 30,
   "metadata": {},
   "outputs": [],
   "source": [
    "stem = NLP.FrenchStemTokenizer(remove_non_words=False)\n",
    "texte = stem(données['Text'][0])"
   ]
  },
  {
   "cell_type": "code",
   "execution_count": 31,
   "metadata": {},
   "outputs": [
    {
     "data": {
      "text/plain": [
       "'Un généticien allemand dit que ceux qui refuseraient le vaccin n auraient plus acces aux soins medicaux\\n'"
      ]
     },
     "execution_count": 31,
     "metadata": {},
     "output_type": "execute_result"
    }
   ],
   "source": [
    "données['Text'][0]"
   ]
  },
  {
   "cell_type": "code",
   "execution_count": 32,
   "metadata": {},
   "outputs": [
    {
     "data": {
      "text/plain": [
       "['un',\n",
       " 'généticien',\n",
       " 'allemand',\n",
       " 'dit',\n",
       " 'ceux',\n",
       " 'refus',\n",
       " 'vaccin',\n",
       " 'plus',\n",
       " 'acce',\n",
       " 'soin',\n",
       " 'medical']"
      ]
     },
     "execution_count": 32,
     "metadata": {},
     "output_type": "execute_result"
    }
   ],
   "source": [
    "texte"
   ]
  },
  {
   "cell_type": "code",
   "execution_count": 33,
   "metadata": {},
   "outputs": [
    {
     "name": "stdout",
     "output_type": "stream",
     "text": [
      "Authentification ok\n"
     ]
    },
    {
     "data": {
      "text/html": [
       "<div>\n",
       "<style scoped>\n",
       "    .dataframe tbody tr th:only-of-type {\n",
       "        vertical-align: middle;\n",
       "    }\n",
       "\n",
       "    .dataframe tbody tr th {\n",
       "        vertical-align: top;\n",
       "    }\n",
       "\n",
       "    .dataframe thead th {\n",
       "        text-align: right;\n",
       "    }\n",
       "</style>\n",
       "<table border=\"1\" class=\"dataframe\">\n",
       "  <thead>\n",
       "    <tr style=\"text-align: right;\">\n",
       "      <th></th>\n",
       "      <th>Text</th>\n",
       "      <th>User</th>\n",
       "      <th>Date</th>\n",
       "      <th>Search Word</th>\n",
       "    </tr>\n",
       "  </thead>\n",
       "  <tbody>\n",
       "    <tr>\n",
       "      <th>0</th>\n",
       "      <td>The COVID Relief Package - signed last night -...</td>\n",
       "      <td>CUCSnyc</td>\n",
       "      <td>2020-12-28 14:36:32</td>\n",
       "      <td>covid-filter:retweets</td>\n",
       "    </tr>\n",
       "    <tr>\n",
       "      <th>1</th>\n",
       "      <td>FACT: COVID-19 vaccines will not give you COVI...</td>\n",
       "      <td>nkyhealth</td>\n",
       "      <td>2020-12-28 14:36:32</td>\n",
       "      <td>covid-filter:retweets</td>\n",
       "    </tr>\n",
       "    <tr>\n",
       "      <th>2</th>\n",
       "      <td>@LaurieAClaase @Jonathan_Witt \"The Brackengate...</td>\n",
       "      <td>ish_michelle</td>\n",
       "      <td>2020-12-28 14:36:32</td>\n",
       "      <td>covid-filter:retweets</td>\n",
       "    </tr>\n",
       "    <tr>\n",
       "      <th>3</th>\n",
       "      <td>I’ve never seen this many ‘I’ve tested positiv...</td>\n",
       "      <td>MissMSunshine_</td>\n",
       "      <td>2020-12-28 14:36:32</td>\n",
       "      <td>covid-filter:retweets</td>\n",
       "    </tr>\n",
       "    <tr>\n",
       "      <th>4</th>\n",
       "      <td>@shfly1116 they are about to retire and contra...</td>\n",
       "      <td>readerkpop</td>\n",
       "      <td>2020-12-28 14:36:32</td>\n",
       "      <td>covid-filter:retweets</td>\n",
       "    </tr>\n",
       "    <tr>\n",
       "      <th>5</th>\n",
       "      <td>Man, I underestimated covid shipping so badly....</td>\n",
       "      <td>CellutronNSFW</td>\n",
       "      <td>2020-12-28 14:36:32</td>\n",
       "      <td>covid-filter:retweets</td>\n",
       "    </tr>\n",
       "    <tr>\n",
       "      <th>6</th>\n",
       "      <td>Fact check: Trump Relents, Signs COVID Relief,...</td>\n",
       "      <td>EUwatchers</td>\n",
       "      <td>2020-12-28 14:36:32</td>\n",
       "      <td>covid-filter:retweets</td>\n",
       "    </tr>\n",
       "    <tr>\n",
       "      <th>7</th>\n",
       "      <td>NYC Covid rates, hospitalizations and deaths c...</td>\n",
       "      <td>JoniKletter</td>\n",
       "      <td>2020-12-28 14:36:31</td>\n",
       "      <td>covid-filter:retweets</td>\n",
       "    </tr>\n",
       "    <tr>\n",
       "      <th>8</th>\n",
       "      <td>Fucking Covid car! You got a grooming gang car?!</td>\n",
       "      <td>ILOVETINY</td>\n",
       "      <td>2020-12-28 14:36:31</td>\n",
       "      <td>covid-filter:retweets</td>\n",
       "    </tr>\n",
       "    <tr>\n",
       "      <th>9</th>\n",
       "      <td>@MSNBC A post from @MSNBC about a death not as...</td>\n",
       "      <td>luketur21061137</td>\n",
       "      <td>2020-12-28 14:36:31</td>\n",
       "      <td>covid-filter:retweets</td>\n",
       "    </tr>\n",
       "  </tbody>\n",
       "</table>\n",
       "</div>"
      ],
      "text/plain": [
       "                                                Text             User  \\\n",
       "0  The COVID Relief Package - signed last night -...          CUCSnyc   \n",
       "1  FACT: COVID-19 vaccines will not give you COVI...        nkyhealth   \n",
       "2  @LaurieAClaase @Jonathan_Witt \"The Brackengate...     ish_michelle   \n",
       "3  I’ve never seen this many ‘I’ve tested positiv...   MissMSunshine_   \n",
       "4  @shfly1116 they are about to retire and contra...       readerkpop   \n",
       "5  Man, I underestimated covid shipping so badly....    CellutronNSFW   \n",
       "6  Fact check: Trump Relents, Signs COVID Relief,...       EUwatchers   \n",
       "7  NYC Covid rates, hospitalizations and deaths c...      JoniKletter   \n",
       "8  Fucking Covid car! You got a grooming gang car?!         ILOVETINY   \n",
       "9  @MSNBC A post from @MSNBC about a death not as...  luketur21061137   \n",
       "\n",
       "                 Date            Search Word  \n",
       "0 2020-12-28 14:36:32  covid-filter:retweets  \n",
       "1 2020-12-28 14:36:32  covid-filter:retweets  \n",
       "2 2020-12-28 14:36:32  covid-filter:retweets  \n",
       "3 2020-12-28 14:36:32  covid-filter:retweets  \n",
       "4 2020-12-28 14:36:32  covid-filter:retweets  \n",
       "5 2020-12-28 14:36:32  covid-filter:retweets  \n",
       "6 2020-12-28 14:36:32  covid-filter:retweets  \n",
       "7 2020-12-28 14:36:31  covid-filter:retweets  \n",
       "8 2020-12-28 14:36:31  covid-filter:retweets  \n",
       "9 2020-12-28 14:36:31  covid-filter:retweets  "
      ]
     },
     "execution_count": 33,
     "metadata": {},
     "output_type": "execute_result"
    }
   ],
   "source": [
    "données = TDF.search(\"covid\", \"2020-12-25\", 10, \"en\",remove_URL = True)\n",
    "données"
   ]
  },
  {
   "cell_type": "code",
   "execution_count": 37,
   "metadata": {},
   "outputs": [],
   "source": [
    "stem = NLP.LemmaTokenizer('en',stop_words=stop_words_en, remove_non_words=False)\n",
    "texte = stem(données['Text'][1])"
   ]
  },
  {
   "cell_type": "code",
   "execution_count": 38,
   "metadata": {},
   "outputs": [
    {
     "data": {
      "text/plain": [
       "'FACT: COVID-19 vaccines will not give you COVID-19. For more information, please visit  '"
      ]
     },
     "execution_count": 38,
     "metadata": {},
     "output_type": "execute_result"
    }
   ],
   "source": [
    "données['Text'][1]"
   ]
  },
  {
   "cell_type": "code",
   "execution_count": 39,
   "metadata": {},
   "outputs": [
    {
     "data": {
      "text/plain": [
       "['FACT',\n",
       " 'COVID',\n",
       " 'vaccine',\n",
       " 'give',\n",
       " 'COVID',\n",
       " 'For',\n",
       " 'more',\n",
       " 'information',\n",
       " 'please',\n",
       " 'visit']"
      ]
     },
     "execution_count": 39,
     "metadata": {},
     "output_type": "execute_result"
    }
   ],
   "source": [
    "texte"
   ]
  },
  {
   "cell_type": "code",
   "execution_count": null,
   "metadata": {},
   "outputs": [],
   "source": []
  }
 ],
 "metadata": {
  "kernelspec": {
   "display_name": "Python 3",
   "language": "python",
   "name": "python3"
  },
  "language_info": {
   "codemirror_mode": {
    "name": "ipython",
    "version": 3
   },
   "file_extension": ".py",
   "mimetype": "text/x-python",
   "name": "python",
   "nbconvert_exporter": "python",
   "pygments_lexer": "ipython3",
   "version": "3.8.3"
  }
 },
 "nbformat": 4,
 "nbformat_minor": 4
}
