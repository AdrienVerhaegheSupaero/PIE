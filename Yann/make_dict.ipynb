{
 "cells": [
  {
   "cell_type": "markdown",
   "metadata": {},
   "source": [
    "This notebook creates a dict out of a dataframe of news : \n",
    "{'Company name' : dataframe of news containing the name of the company}"
   ]
  },
  {
   "cell_type": "code",
   "execution_count": 52,
   "metadata": {},
   "outputs": [],
   "source": [
    "import pandas as pd\n",
    "import numpy as np\n",
    "import pickle\n",
    "import os\n",
    "\n",
    "data_folder = '../data/'\n",
    "df_to_read = 'Reuters' #Bloomberg or Reuters\n",
    "df = pd.read_parquet(data_folder + 'financial_data' + df_to_read + '.parquet.gzip')\n"
   ]
  },
  {
   "cell_type": "markdown",
   "metadata": {},
   "source": [
    "What is inside the dataframe :"
   ]
  },
  {
   "cell_type": "code",
   "execution_count": 54,
   "metadata": {},
   "outputs": [
    {
     "name": "stdout",
     "output_type": "stream",
     "text": [
      "Index(['Headline', 'Journalists', 'Date', 'Link', 'Article'], dtype='object')\n",
      "106494 entries\n"
     ]
    },
    {
     "data": {
      "text/html": [
       "<div>\n",
       "<style scoped>\n",
       "    .dataframe tbody tr th:only-of-type {\n",
       "        vertical-align: middle;\n",
       "    }\n",
       "\n",
       "    .dataframe tbody tr th {\n",
       "        vertical-align: top;\n",
       "    }\n",
       "\n",
       "    .dataframe thead th {\n",
       "        text-align: right;\n",
       "    }\n",
       "</style>\n",
       "<table border=\"1\" class=\"dataframe\">\n",
       "  <thead>\n",
       "    <tr style=\"text-align: right;\">\n",
       "      <th></th>\n",
       "      <th>Headline</th>\n",
       "      <th>Journalists</th>\n",
       "      <th>Date</th>\n",
       "      <th>Link</th>\n",
       "      <th>Article</th>\n",
       "    </tr>\n",
       "  </thead>\n",
       "  <tbody>\n",
       "    <tr>\n",
       "      <th>0</th>\n",
       "      <td>Exxon Mobil offers plan to end Alaska dispute</td>\n",
       "      <td>[Yereth Rosen]</td>\n",
       "      <td>Fri Oct 20, 2006 6:15pm EDT</td>\n",
       "      <td>http://www.reuters.com/article/2006/10/20/busi...</td>\n",
       "      <td>ANCHORAGE, Alaska  (Reuters) - Exxon Mobil ( X...</td>\n",
       "    </tr>\n",
       "    <tr>\n",
       "      <th>1</th>\n",
       "      <td>Hey buddy, can you spare $600 for a Google share?</td>\n",
       "      <td>[Paul Thomasch, Eric Auchard]</td>\n",
       "      <td>Fri Oct 20, 2006 4:25pm EDT</td>\n",
       "      <td>http://www.reuters.com/article/2006/10/20/busi...</td>\n",
       "      <td>SAN FRANCISCO/NEW YORK  (Reuters) - Wall Stree...</td>\n",
       "    </tr>\n",
       "    <tr>\n",
       "      <th>2</th>\n",
       "      <td>AOL CEO says sales may shrink for two years -p...</td>\n",
       "      <td>[]</td>\n",
       "      <td>Sat Oct 21, 2006 2:21pm EDT</td>\n",
       "      <td>http://www.reuters.com/article/2006/10/21/busi...</td>\n",
       "      <td>FRANKFURT  (Reuters) - Internet service provid...</td>\n",
       "    </tr>\n",
       "    <tr>\n",
       "      <th>3</th>\n",
       "      <td>Fed to keep hawkish tone, hold rates steady</td>\n",
       "      <td>[Alister Bull]</td>\n",
       "      <td>Sun Oct 22, 2006 12:14pm EDT</td>\n",
       "      <td>http://www.reuters.com/article/2006/10/22/busi...</td>\n",
       "      <td>WASHINGTON  (Reuters) - The central bank is ex...</td>\n",
       "    </tr>\n",
       "    <tr>\n",
       "      <th>4</th>\n",
       "      <td>Pluspetrol says losing $2.4 mln/day in Peru pr...</td>\n",
       "      <td>[]</td>\n",
       "      <td>Sat Oct 21, 2006 8:11pm EDT</td>\n",
       "      <td>http://www.reuters.com/article/2006/10/22/busi...</td>\n",
       "      <td>LIMA, Peru  (Reuters) - Argentine oil company ...</td>\n",
       "    </tr>\n",
       "  </tbody>\n",
       "</table>\n",
       "</div>"
      ],
      "text/plain": [
       "                                            Headline  \\\n",
       "0      Exxon Mobil offers plan to end Alaska dispute   \n",
       "1  Hey buddy, can you spare $600 for a Google share?   \n",
       "2  AOL CEO says sales may shrink for two years -p...   \n",
       "3        Fed to keep hawkish tone, hold rates steady   \n",
       "4  Pluspetrol says losing $2.4 mln/day in Peru pr...   \n",
       "\n",
       "                     Journalists                          Date  \\\n",
       "0                 [Yereth Rosen]   Fri Oct 20, 2006 6:15pm EDT   \n",
       "1  [Paul Thomasch, Eric Auchard]   Fri Oct 20, 2006 4:25pm EDT   \n",
       "2                             []   Sat Oct 21, 2006 2:21pm EDT   \n",
       "3                 [Alister Bull]  Sun Oct 22, 2006 12:14pm EDT   \n",
       "4                             []   Sat Oct 21, 2006 8:11pm EDT   \n",
       "\n",
       "                                                Link  \\\n",
       "0  http://www.reuters.com/article/2006/10/20/busi...   \n",
       "1  http://www.reuters.com/article/2006/10/20/busi...   \n",
       "2  http://www.reuters.com/article/2006/10/21/busi...   \n",
       "3  http://www.reuters.com/article/2006/10/22/busi...   \n",
       "4  http://www.reuters.com/article/2006/10/22/busi...   \n",
       "\n",
       "                                             Article  \n",
       "0  ANCHORAGE, Alaska  (Reuters) - Exxon Mobil ( X...  \n",
       "1  SAN FRANCISCO/NEW YORK  (Reuters) - Wall Stree...  \n",
       "2  FRANKFURT  (Reuters) - Internet service provid...  \n",
       "3  WASHINGTON  (Reuters) - The central bank is ex...  \n",
       "4  LIMA, Peru  (Reuters) - Argentine oil company ...  "
      ]
     },
     "execution_count": 54,
     "metadata": {},
     "output_type": "execute_result"
    }
   ],
   "source": [
    "print(df.columns)\n",
    "print(f'{len(df)} entries')\n",
    "df.head(5)\n"
   ]
  },
  {
   "cell_type": "markdown",
   "metadata": {},
   "source": [
    "We drop everything not needed"
   ]
  },
  {
   "cell_type": "code",
   "execution_count": 63,
   "metadata": {},
   "outputs": [
    {
     "data": {
      "text/html": [
       "<div>\n",
       "<style scoped>\n",
       "    .dataframe tbody tr th:only-of-type {\n",
       "        vertical-align: middle;\n",
       "    }\n",
       "\n",
       "    .dataframe tbody tr th {\n",
       "        vertical-align: top;\n",
       "    }\n",
       "\n",
       "    .dataframe thead th {\n",
       "        text-align: right;\n",
       "    }\n",
       "</style>\n",
       "<table border=\"1\" class=\"dataframe\">\n",
       "  <thead>\n",
       "    <tr style=\"text-align: right;\">\n",
       "      <th></th>\n",
       "      <th>Date</th>\n",
       "      <th>Article</th>\n",
       "    </tr>\n",
       "  </thead>\n",
       "  <tbody>\n",
       "    <tr>\n",
       "      <th>0</th>\n",
       "      <td>Fri Oct 20, 2006 6:15pm EDT</td>\n",
       "      <td>ANCHORAGE, Alaska  (Reuters) - Exxon Mobil ( X...</td>\n",
       "    </tr>\n",
       "    <tr>\n",
       "      <th>1</th>\n",
       "      <td>Fri Oct 20, 2006 4:25pm EDT</td>\n",
       "      <td>SAN FRANCISCO/NEW YORK  (Reuters) - Wall Stree...</td>\n",
       "    </tr>\n",
       "    <tr>\n",
       "      <th>2</th>\n",
       "      <td>Sat Oct 21, 2006 2:21pm EDT</td>\n",
       "      <td>FRANKFURT  (Reuters) - Internet service provid...</td>\n",
       "    </tr>\n",
       "  </tbody>\n",
       "</table>\n",
       "</div>"
      ],
      "text/plain": [
       "                          Date  \\\n",
       "0  Fri Oct 20, 2006 6:15pm EDT   \n",
       "1  Fri Oct 20, 2006 4:25pm EDT   \n",
       "2  Sat Oct 21, 2006 2:21pm EDT   \n",
       "\n",
       "                                             Article  \n",
       "0  ANCHORAGE, Alaska  (Reuters) - Exxon Mobil ( X...  \n",
       "1  SAN FRANCISCO/NEW YORK  (Reuters) - Wall Stree...  \n",
       "2  FRANKFURT  (Reuters) - Internet service provid...  "
      ]
     },
     "execution_count": 63,
     "metadata": {},
     "output_type": "execute_result"
    }
   ],
   "source": [
    "df = df.drop(columns = ['Link', 'Headline', 'Journalists'])\n",
    "df.head(3)"
   ]
  },
  {
   "cell_type": "markdown",
   "metadata": {},
   "source": [
    "We get our dictionary (which is at first empty)"
   ]
  },
  {
   "cell_type": "code",
   "execution_count": 113,
   "metadata": {},
   "outputs": [],
   "source": [
    "dict_name = \"data_dict\"\n",
    "companies_to_get = [\"google\", \"apple\", \"amazon\", \"facebook\"]\n",
    "\n",
    "f = open(dict_name+\".pkl\",\"r+b\")\n",
    "if (os.stat(\"./\"+ dict_name +\".pkl\").st_size == 0):\n",
    "    data_dict = {}\n",
    "else :\n",
    "    data_dict = pickle.load(f)\n",
    "f.close()\n",
    "keys = data_dict.keys()\n",
    "\n",
    "#Check if the df we are going to add has corresponding variables (those given in 'cols')\n",
    "cols = ['Date', 'Article']\n",
    "assert(len(df.columns == len(cols))), 'Number of columns mismatch (needs 2 : Date and Article)'\n",
    "for i in range(len(cols)):\n",
    "    assert(cols[i] == df.columns.values[i]), f\"Column mismatch : {df.columns.values[i]} when {cols(i)} was expected\"\n",
    "\n",
    "for company_name in companies_to_get:\n",
    "    company_df = df[df.Article.apply(lambda article : company_name.lower() in article.lower())]\n",
    "    if company_name in keys:\n",
    "        data_dict[company_name] = data_dict[company_name].append(company_df)\n",
    "    else :\n",
    "        data_dict[company_name] = company_df\n",
    "\n",
    "f = open(dict_name+\".pkl\",\"r+b\")\n",
    "pickle.dump(data_dict, f)\n",
    "f.close()\n"
   ]
  },
  {
   "cell_type": "code",
   "execution_count": 108,
   "metadata": {},
   "outputs": [
    {
     "name": "stdout",
     "output_type": "stream",
     "text": [
      "dict_keys(['google', 'amazon', 'apple'])\n"
     ]
    }
   ],
   "source": [
    "\n",
    "f = open(\"data_dict.pkl\",\"r+b\")\n",
    "data_dict2 = pickle.load(f)\n",
    "print(data_dict2.keys())\n",
    "f.close()"
   ]
  },
  {
   "cell_type": "code",
   "execution_count": 98,
   "metadata": {},
   "outputs": [
    {
     "data": {
      "text/plain": [
       "dict_keys(['exxon', 'google', 'amazon', 'apple'])"
      ]
     },
     "execution_count": 98,
     "metadata": {},
     "output_type": "execute_result"
    }
   ],
   "source": [
    "data_dict.keys()"
   ]
  }
 ],
 "metadata": {
  "kernelspec": {
   "display_name": "Python 3",
   "language": "python",
   "name": "python3"
  },
  "language_info": {
   "codemirror_mode": {
    "name": "ipython",
    "version": 3
   },
   "file_extension": ".py",
   "mimetype": "text/x-python",
   "name": "python",
   "nbconvert_exporter": "python",
   "pygments_lexer": "ipython3",
   "version": "3.8.3"
  }
 },
 "nbformat": 4,
 "nbformat_minor": 4
}
