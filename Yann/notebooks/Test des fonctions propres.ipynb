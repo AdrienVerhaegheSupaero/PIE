{
 "cells": [
  {
   "cell_type": "code",
   "execution_count": 12,
   "metadata": {},
   "outputs": [
    {
     "name": "stdout",
     "output_type": "stream",
     "text": [
      "The autoreload extension is already loaded. To reload it, use:\n",
      "  %reload_ext autoreload\n"
     ]
    }
   ],
   "source": [
    "%load_ext autoreload\n",
    "%autoreload 2\n",
    "%matplotlib inline\n",
    "import sys\n",
    "sys.path.insert(1, '../functions')\n",
    "import data_utilities as data_u\n",
    "import dict_utilities as dict_u\n",
    "\n",
    "dict_dir = \"../data/data_dict.pkl\"\n",
    "data_folder = \"../data/\"\n",
    "dict_u.reset_dict(dict_dir)"
   ]
  },
  {
   "cell_type": "code",
   "execution_count": 20,
   "metadata": {},
   "outputs": [
    {
     "name": "stdout",
     "output_type": "stream",
     "text": [
      "Authentification ok\n"
     ]
    }
   ],
   "source": [
    "news_to_read = 'Reuters'\n",
    "format_cols = ['Text', 'Date', 'Author']\n",
    "\n",
    "search_words=['google']\n",
    "\n",
    "data_u.add_news_to_dict(search_words, data_folder, news_to_read, dict_dir, format_cols)\n",
    "\n",
    "codes_dir = \"../data/twitter_codes.txt\"\n",
    "codes = data_u.get_codes(codes_dir)\n",
    "search_words=['amazon']\n",
    "data_u.add_tweets_to_dict(search_words, \"2020-11-13\", 50, \"en\", codes, format_cols, dict_dir, retweet=False)"
   ]
  },
  {
   "cell_type": "code",
   "execution_count": 21,
   "metadata": {},
   "outputs": [
    {
     "data": {
      "text/plain": [
       "dict_keys(['google', 'amazon'])"
      ]
     },
     "execution_count": 21,
     "metadata": {},
     "output_type": "execute_result"
    }
   ],
   "source": [
    "dict_u.get_dict(dict_dir).keys()"
   ]
  }
 ],
 "metadata": {
  "kernelspec": {
   "display_name": "Python 3",
   "language": "python",
   "name": "python3"
  },
  "language_info": {
   "codemirror_mode": {
    "name": "ipython",
    "version": 3
   },
   "file_extension": ".py",
   "mimetype": "text/x-python",
   "name": "python",
   "nbconvert_exporter": "python",
   "pygments_lexer": "ipython3",
   "version": "3.8.3"
  }
 },
 "nbformat": 4,
 "nbformat_minor": 4
}
