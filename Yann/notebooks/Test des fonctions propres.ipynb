{
 "cells": [
  {
   "cell_type": "code",
   "execution_count": 1,
   "metadata": {},
   "outputs": [],
   "source": [
    "%load_ext autoreload\n",
    "%autoreload 2\n",
    "%matplotlib inline\n",
    "import sys\n",
    "sys.path.insert(1, '../functions')\n",
    "import data_utilities as data_u\n",
    "import dict_utilities as dict_u\n",
    "\n",
    "dict_dir = \"../data/data_dict.pkl\"\n",
    "data_folder = \"../data/\"\n",
    "dict_u.reset_dict(dict_dir)"
   ]
  },
  {
   "cell_type": "code",
   "execution_count": 20,
   "metadata": {},
   "outputs": [
    {
     "name": "stdout",
     "output_type": "stream",
     "text": [
      "Authentification ok\n"
     ]
    }
   ],
   "source": [
    "news_to_read = 'Reuters'\n",
    "format_cols = ['Text', 'Date', 'Author']\n",
    "\n",
    "search_words=['google']\n",
    "\n",
    "data_u.add_news_to_dict(search_words, data_folder, news_to_read, dict_dir, format_cols)\n",
    "\n",
    "codes_dir = \"../data/twitter_codes.txt\"\n",
    "codes = data_u.get_codes(codes_dir)\n",
    "search_words=['amazon']\n",
    "data_u.add_tweets_to_dict(search_words, \"2020-11-13\", 50, \"en\", codes, format_cols, dict_dir, retweet=False)"
   ]
  },
  {
   "cell_type": "code",
   "execution_count": 2,
   "metadata": {},
   "outputs": [
    {
     "ename": "NameError",
     "evalue": "name 'search_author' is not defined",
     "output_type": "error",
     "traceback": [
      "\u001b[1;31m---------------------------------------------------------------------------\u001b[0m",
      "\u001b[1;31mNameError\u001b[0m                                 Traceback (most recent call last)",
      "\u001b[1;32m<ipython-input-2-c0b72e9e69da>\u001b[0m in \u001b[0;36m<module>\u001b[1;34m\u001b[0m\n\u001b[0;32m      3\u001b[0m \u001b[0mcodes\u001b[0m \u001b[1;33m=\u001b[0m \u001b[0mdata_u\u001b[0m\u001b[1;33m.\u001b[0m\u001b[0mget_codes\u001b[0m\u001b[1;33m(\u001b[0m\u001b[0mcodes_dir\u001b[0m\u001b[1;33m)\u001b[0m\u001b[1;33m\u001b[0m\u001b[1;33m\u001b[0m\u001b[0m\n\u001b[0;32m      4\u001b[0m \u001b[0mformat_cols\u001b[0m \u001b[1;33m=\u001b[0m \u001b[1;33m[\u001b[0m\u001b[1;34m'Text'\u001b[0m\u001b[1;33m,\u001b[0m \u001b[1;34m'Date'\u001b[0m\u001b[1;33m,\u001b[0m \u001b[1;34m'Author'\u001b[0m\u001b[1;33m]\u001b[0m\u001b[1;33m\u001b[0m\u001b[1;33m\u001b[0m\u001b[0m\n\u001b[1;32m----> 5\u001b[1;33m \u001b[0msearch_author\u001b[0m\u001b[1;33m(\u001b[0m\u001b[0msearch_id\u001b[0m\u001b[1;33m,\u001b[0m  \u001b[1;34m\"2020-11-13\"\u001b[0m\u001b[1;33m,\u001b[0m \u001b[1;36m50\u001b[0m\u001b[1;33m,\u001b[0m \u001b[1;34m\"en\"\u001b[0m\u001b[1;33m,\u001b[0m \u001b[0mcodes\u001b[0m\u001b[1;33m,\u001b[0m \u001b[0mformat_cols\u001b[0m\u001b[1;33m,\u001b[0m \u001b[0mretweet\u001b[0m\u001b[1;33m=\u001b[0m\u001b[1;32mFalse\u001b[0m\u001b[1;33m)\u001b[0m\u001b[1;33m\u001b[0m\u001b[1;33m\u001b[0m\u001b[0m\n\u001b[0m",
      "\u001b[1;31mNameError\u001b[0m: name 'search_author' is not defined"
     ]
    }
   ],
   "source": [
    "search_id = 'Google'\n",
    "codes_dir = \"../data/twitter_codes.txt\"\n",
    "codes = data_u.get_codes(codes_dir)\n",
    "format_cols = ['Text', 'Date', 'Author']\n",
    "search_author(search_id,  \"2020-11-13\", 50, \"en\", codes, format_cols, retweet=False)"
   ]
  }
 ],
 "metadata": {
  "kernelspec": {
   "display_name": "Python 3",
   "language": "python",
   "name": "python3"
  },
  "language_info": {
   "codemirror_mode": {
    "name": "ipython",
    "version": 3
   },
   "file_extension": ".py",
   "mimetype": "text/x-python",
   "name": "python",
   "nbconvert_exporter": "python",
   "pygments_lexer": "ipython3",
   "version": "3.8.3"
  }
 },
 "nbformat": 4,
 "nbformat_minor": 4
}
