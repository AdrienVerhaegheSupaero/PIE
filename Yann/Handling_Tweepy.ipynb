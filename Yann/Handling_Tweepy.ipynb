{
 "cells": [
  {
   "cell_type": "code",
   "execution_count": 17,
   "metadata": {},
   "outputs": [
    {
     "name": "stdout",
     "output_type": "stream",
     "text": [
      "Authentification ok\n",
      "                                                 Text             User  \\\n",
      "0   Talking Google E-A-T Implementation &amp; Auth...      MikeBlazerX   \n",
      "1   Does Wearing Glasses Protect You From COVID-19...         biteszHQ   \n",
      "2   Opinion: Rahul-Priyanka Gain Upper Hand - At L...     RVanchipalam   \n",
      "3   @mydentist_uk Just spoke to practice. You don'...          ruthm4x   \n",
      "4   @googlephotos With Google Photos being counted...           PrzPom   \n",
      "5   Vlog #94: Michael Lewittes On Dealing With Goo...      MikeBlazerX   \n",
      "6   #HKR1000 It is very important that everyone ex...  EmilyGr70898522   \n",
      "7   Google Podcast: Indexing Images, Video, Audio ...      MikeBlazerX   \n",
      "8   @SteveHamel16 @Google Looks like Dennis got in...      OfficialABQ   \n",
      "9   BTS 'DISCOGRAFIA' (Download Free)\\n\\n[Google D...  listenmyheart97   \n",
      "10  @cinnamondnp we google each other to find our ...          hypednp   \n",
      "11  I've visited 11 cities in the game on Google P...        brprakash   \n",
      "12  #HeyGoogle my google account is disabled form ...  dharmen40859859   \n",
      "13  The Vermont Book Shop on #Google https://t.co/...       vtbookshop   \n",
      "14  @NFL @K1 @AZCardinals The owner  of Google and...  47DpHdBnQPrYA8E   \n",
      "15  @Beachlover14504 @OANN Pfizer specifically sai...    realPatriotTM   \n",
      "16    hi. maybe? if you want. https://t.co/24XhHogKl0    DAMAGEDSAINTS   \n",
      "17  @wizonereport Please notice our concern email ...   keumdongiebaby   \n",
      "18  How to implement PageView in Flutter.\\n{by @ia...       FlutterGee   \n",
      "19  @Curb71 Hi, Steve. I'm sorry to hear about thi...            Lowes   \n",
      "20  People who don't put selfies or put up pics ta...      vicky155616   \n",
      "21  Google your name + cottagecore, then outfit, c...         dezinpub   \n",
      "22  @MAGAMandy1776 @QingyunBao @besf0rt @TheDemocr...     about37hobos   \n",
      "23            @aceharuto ok google how to be hyunsuk😃       bigboyruto   \n",
      "24                     @HESFlNELINE google classroomm     nggagabutsih   \n",
      "25  Join East’s Surfrider Club, a volunteer-based ...    CHEActivities   \n",
      "26  google ur name + cottagecore and then outfit, ...         ohyakume   \n",
      "27  @FerxBunBun I saved this thumbnail because I w...        tearyhour   \n",
      "28  @Mistytrooper @Shumagic @VJ290481 @kawalpreetd...      coronaKiMKB   \n",
      "29  @PhysicsJo @FunkyPedagogy I have a spreadsheet...        Snotlady5   \n",
      "30  @IvankaTrump @realDonaldTrump This was in Augu...    Im_half_awake   \n",
      "31  @NFL @K1 @AZCardinals The owner  of Google and...  47DpHdBnQPrYA8E   \n",
      "32  @nat0holmes There's plenty in politics. Just G...  cr4shbandiicoot   \n",
      "33  @jeremynewberger I respectfully disagree, rode...  WashburneMaggie   \n",
      "34  Indian Youth Congress presents YUVA - national...              IYC   \n",
      "35  A lot of Americans are going to google Wrexham...       scavendish   \n",
      "36  google your name + cottagecore + outfit, cotta...       heliopath_   \n",
      "37  I know google didn’t just say this is Harry’s ...  CANYONMOONTPWK_   \n",
      "38  More great insights from Google: The Customer ...       JUSTYVETTE   \n",
      "39  Another ⭐️⭐️⭐️⭐️⭐️ Google Review for Marshall ...    MarshallGroup   \n",
      "40  Don't waste your time listening to these clown...        ethanjoll   \n",
      "41  @Johnmacadam7474 @SaimaFerdows There’s been co...     noodles_nood   \n",
      "42  google your name + dark academia + outfit, boo...      LeAsgardian   \n",
      "43  @Patty__Grace maybe my understanding of the te...        mrpresRSA   \n",
      "44  How many #patent tweets does it take for you t...      DailyPatent   \n",
      "45  Not sure if Google is trolling me atm. 😂😂 http...         mrLangly   \n",
      "46  👉165 companies &amp; industry bodies have call...  EuropeMediaLab_   \n",
      "47  Thank you @qwiklabs for #QwiklabsDiwali event,...   satriasnugroho   \n",
      "48  @Appltre @Christy56074523 @TMIWITW @SMahmoodKa...       bahiapilot   \n",
      "49  nvm that’s what google says https://t.co/7rT9E...          imaviru   \n",
      "\n",
      "                  Date             Search Word  \n",
      "0  2020-11-16 14:49:31  Google-filter:retweets  \n",
      "1  2020-11-16 14:49:30  Google-filter:retweets  \n",
      "2  2020-11-16 14:49:29  Google-filter:retweets  \n",
      "3  2020-11-16 14:49:28  Google-filter:retweets  \n",
      "4  2020-11-16 14:49:28  Google-filter:retweets  \n",
      "5  2020-11-16 14:49:28  Google-filter:retweets  \n",
      "6  2020-11-16 14:49:27  Google-filter:retweets  \n",
      "7  2020-11-16 14:49:27  Google-filter:retweets  \n",
      "8  2020-11-16 14:49:26  Google-filter:retweets  \n",
      "9  2020-11-16 14:49:26  Google-filter:retweets  \n",
      "10 2020-11-16 14:49:26  Google-filter:retweets  \n",
      "11 2020-11-16 14:49:25  Google-filter:retweets  \n",
      "12 2020-11-16 14:49:25  Google-filter:retweets  \n",
      "13 2020-11-16 14:49:25  Google-filter:retweets  \n",
      "14 2020-11-16 14:49:24  Google-filter:retweets  \n",
      "15 2020-11-16 14:49:24  Google-filter:retweets  \n",
      "16 2020-11-16 14:49:24  Google-filter:retweets  \n",
      "17 2020-11-16 14:49:23  Google-filter:retweets  \n",
      "18 2020-11-16 14:49:23  Google-filter:retweets  \n",
      "19 2020-11-16 14:49:22  Google-filter:retweets  \n",
      "20 2020-11-16 14:49:21  Google-filter:retweets  \n",
      "21 2020-11-16 14:49:21  Google-filter:retweets  \n",
      "22 2020-11-16 14:49:21  Google-filter:retweets  \n",
      "23 2020-11-16 14:49:21  Google-filter:retweets  \n",
      "24 2020-11-16 14:49:21  Google-filter:retweets  \n",
      "25 2020-11-16 14:49:20  Google-filter:retweets  \n",
      "26 2020-11-16 14:49:19  Google-filter:retweets  \n",
      "27 2020-11-16 14:49:18  Google-filter:retweets  \n",
      "28 2020-11-16 14:49:18  Google-filter:retweets  \n",
      "29 2020-11-16 14:49:16  Google-filter:retweets  \n",
      "30 2020-11-16 14:49:15  Google-filter:retweets  \n",
      "31 2020-11-16 14:49:15  Google-filter:retweets  \n",
      "32 2020-11-16 14:49:15  Google-filter:retweets  \n",
      "33 2020-11-16 14:49:15  Google-filter:retweets  \n",
      "34 2020-11-16 14:49:15  Google-filter:retweets  \n",
      "35 2020-11-16 14:49:13  Google-filter:retweets  \n",
      "36 2020-11-16 14:49:13  Google-filter:retweets  \n",
      "37 2020-11-16 14:49:11  Google-filter:retweets  \n",
      "38 2020-11-16 14:49:11  Google-filter:retweets  \n",
      "39 2020-11-16 14:49:11  Google-filter:retweets  \n",
      "40 2020-11-16 14:49:10  Google-filter:retweets  \n",
      "41 2020-11-16 14:49:08  Google-filter:retweets  \n",
      "42 2020-11-16 14:49:08  Google-filter:retweets  \n",
      "43 2020-11-16 14:49:07  Google-filter:retweets  \n",
      "44 2020-11-16 14:49:06  Google-filter:retweets  \n",
      "45 2020-11-16 14:49:06  Google-filter:retweets  \n",
      "46 2020-11-16 14:49:06  Google-filter:retweets  \n",
      "47 2020-11-16 14:49:06  Google-filter:retweets  \n",
      "48 2020-11-16 14:49:04  Google-filter:retweets  \n",
      "49 2020-11-16 14:49:04  Google-filter:retweets  \n"
     ]
    }
   ],
   "source": [
    "import twitter_df as tdf\n",
    "\n",
    "codes_dir = \"twitter_codes.txt\"\n",
    "codes = tdf.get_codes(codes_dir)\n",
    "data = tdf.search(\"Google\", \"2020-11-13\", 50, \"en\", codes)\n",
    "print(data)"
   ]
  },
  {
   "cell_type": "code",
   "execution_count": 16,
   "metadata": {},
   "outputs": [
    {
     "data": {
      "text/plain": [
       "['I5exKno5D4drEQK2uShWDRFfm',\n",
       " 'XNe8j4iWBPKDpl1jSgqawgCyxzscDvfneDMYibimLeu1ukwoGk',\n",
       " '1326944909207728129-S6ogCIOnY0fdTKJe4GyQm866rTsm0c',\n",
       " 'Np5teHlej9VsYrBueZtWmg9kZbxMKzEp8xtjlSJFT79Qy']"
      ]
     },
     "execution_count": 16,
     "metadata": {},
     "output_type": "execute_result"
    }
   ],
   "source": [
    "codes"
   ]
  },
  {
   "cell_type": "code",
   "execution_count": 15,
   "metadata": {},
   "outputs": [],
   "source": [
    "codes = []\n",
    "f = open(, \"r\")\n",
    "for _ in range(4):\n",
    "    string = f.readline()\n",
    "    codes.append(string[string.find(':')+2:].strip())\n",
    "f.close()"
   ]
  }
 ],
 "metadata": {
  "kernelspec": {
   "display_name": "Python 3",
   "language": "python",
   "name": "python3"
  },
  "language_info": {
   "codemirror_mode": {
    "name": "ipython",
    "version": 3
   },
   "file_extension": ".py",
   "mimetype": "text/x-python",
   "name": "python",
   "nbconvert_exporter": "python",
   "pygments_lexer": "ipython3",
   "version": "3.8.3"
  }
 },
 "nbformat": 4,
 "nbformat_minor": 4
}
